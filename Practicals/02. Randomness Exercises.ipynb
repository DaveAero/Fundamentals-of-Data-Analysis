{
 "cells": [
  {
   "cell_type": "markdown",
   "id": "44f80608",
   "metadata": {},
   "source": [
    "<h1 style=\"color: rgb(0, 91, 94);\">Randomness</h1>\n",
    "\n",
    "<hr style=\"border-top: 1px solid rgb(0, 91, 94);\" />\n",
    "\n",
    "This notbook is a collection of my work for the Randomness section practical"
   ]
  },
  {
   "cell_type": "markdown",
   "id": "6fef2986",
   "metadata": {},
   "source": [
    "<h3 style=\"color: #001a79;\">Exercise 1</h3>\n",
    "\n",
    "<hr style=\"border-top: 1px solid #001a79;\" />\n",
    "\n",
    "<i h3 style=\"color: #001a79;\">Remember to do these exercises in your own notebook in your assessment repository.</i>\n",
    "\n",
    "It is somewhat interesting that `(5 * 4 * 3 * 2 * 1)` perfectly divides `(10 * 9 * 8 * 7 * 6)` - there's no remainder.\n",
    "\n",
    "If we only wanted exactly four heads as opposed to five, the equivalent calculation would be `(10 * 9 * 8 * 7) / (4 * 3 * 2 * 1)`.\n",
    "\n",
    "Does that evenly divide too? What is the formula in general?\n",
    "\n",
    "Does it always come out as a positive whole number?\n",
    "\n",
    "<hr style=\"border-top: 1px solid #001a79;\" />"
   ]
  },
  {
   "cell_type": "markdown",
   "id": "b22ed339",
   "metadata": {},
   "source": [
    "<h2 style=\"color: rgb(0, 91, 94);\">Answer 1</h2>\n",
    "\n",
    "<hr style=\"border-top: 1px solid rgb(0, 91, 94);\" />\n",
    "\n",
    "Does `(10 * 9 * 8 * 7) / (4 * 3 * 2 * 1)` divide equally? Yes this does divide equally, and will always divide equally. \n",
    "\n",
    "\n",
    "The formula in general;\n",
    "\n",
    "\n",
    "Number of positions available = N.\n",
    "\n",
    "Number of terms in the upper side of equation = X.\n",
    "\n",
    "! = Factorial, 4! == 4 * 3 * 2 * 1.\n",
    "\n",
    "\n",
    "(N * (N-1) * (N-2) * (N-3)) / X!\n",
    "\n",
    "\n",
    "Does it always come out as a positive whole number? \n",
    "Yes, as this math is being used to represent a real world situation where only positive whole number situations can occur. \n",
    "The Numerator will always be a positive whole number, as this is the number of all possible combinations for the desired conditions (2 heads out of 10 is 90 Or 4 heads out of 10 is 5040).\n",
    "The Denominator will always be a positive whole number, but most importantly will always be a factor of the Numerator. The purpose of this denominator is to remove the occurances where the same coins have shown the same result, but due order they were assigned this result, they may have been counted multiple times.\n",
    "\n",
    "\n"
   ]
  },
  {
   "cell_type": "code",
   "execution_count": null,
   "id": "626cc280",
   "metadata": {},
   "outputs": [],
   "source": []
  },
  {
   "cell_type": "markdown",
   "id": "8d488449",
   "metadata": {},
   "source": []
  }
 ],
 "metadata": {
  "kernelspec": {
   "display_name": "Python 3.9.13 ('base')",
   "language": "python",
   "name": "python3"
  },
  "language_info": {
   "codemirror_mode": {
    "name": "ipython",
    "version": 3
   },
   "file_extension": ".py",
   "mimetype": "text/x-python",
   "name": "python",
   "nbconvert_exporter": "python",
   "pygments_lexer": "ipython3",
   "version": "3.9.13"
  },
  "vscode": {
   "interpreter": {
    "hash": "84d8cac4d95fdd2ab02498a6ec40a50cb9882041e67cb52e6d8bcfda00d28db9"
   }
  }
 },
 "nbformat": 4,
 "nbformat_minor": 5
}
