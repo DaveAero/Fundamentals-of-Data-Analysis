{
 "cells": [
  {
   "cell_type": "markdown",
   "id": "44f80608",
   "metadata": {},
   "source": [
    "<h1 style=\"color: rgb(0, 91, 94);\">Information</h1>\n",
    "\n",
    "<hr style=\"border-top: 1px solid rgb(0, 91, 94);\" />\n",
    "\n",
    "This notbook is a collection of my work for the Information section practical"
   ]
  },
  {
   "cell_type": "markdown",
   "id": "6fef2986",
   "metadata": {},
   "source": [
    "<h2 style=\"color: rgb(0, 91, 94);\">Starting code</h2>\n",
    "\n",
    "<hr style=\"border-top: 1px solid rgb(0, 91, 94);\" />\n",
    "\n",
    "This code has been copied from the 01-information Jupyter Notebook, provided by Ian. This is being used as a starting point, which I will build on below"
   ]
  },
  {
   "cell_type": "code",
   "execution_count": 1,
   "id": "7d506bf8",
   "metadata": {},
   "outputs": [],
   "source": [
    "# Make HTTP requests for internet reqources.\n",
    "import urllib.request\n",
    "\n",
    "# For doing (pseudo-)random things in Python.\n",
    "import random\n",
    "\n",
    "# The URL of a text version of Alice in Wonderland.\n",
    "book_url = 'https://www.gutenberg.org/files/11/11-0.txt'\n",
    "\n",
    "# Get the book.\n",
    "book = list(urllib.request.urlopen(book_url))\n",
    "\n",
    "# Decode the lines and strip line endings.\n",
    "book = [line.decode('utf-8-sig').strip() for line in book]\n",
    "\n",
    "# Get the whole book in one big string.\n",
    "sbook = ''.join(book[26:]).lower()\n",
    "\n",
    "# All letters and a space.\n",
    "chars = 'abcdefghijklmnopqrstuvwxyz '"
   ]
  },
  {
   "cell_type": "markdown",
   "id": "790cbe9e",
   "metadata": {},
   "source": [
    "<h2 style=\"color: rgb(0, 91, 94);\">My Code</h2>\n",
    "\n",
    "<hr style=\"border-top: 1px solid rgb(0, 91, 94);\" />\n",
    "\n",
    "From this point the code is my own work / research.\n",
    "\n",
    "Objective: Adapt the code above to generate a 1000 character long string with weights based on the previous two characters."
   ]
  },
  {
   "cell_type": "code",
   "execution_count": 5,
   "id": "4b697ad6",
   "metadata": {},
   "outputs": [],
   "source": [
    "# Create the weights.\n",
    "# The outer dictionary contains all the possible first characters, in the two-character pairs.\n",
    "# The next layer of nested dictionary’s contains all the possible combinations of second characters.\n",
    "# The final layer of nested dictionary’s contains the probability weighting for the next character,\n",
    "# given the preceding two characters\n",
    "triples_weights = {a: {b: {c: sbook.count(a + b + c) for c in chars} for b in chars} for a in chars}\n",
    "\n",
    "# To show the weights, edit the line below to remove comment \"#\"\n",
    "# triples_weights"
   ]
  },
  {
   "cell_type": "code",
   "execution_count": 6,
   "id": "87608a42",
   "metadata": {},
   "outputs": [],
   "source": [
    "# Start with a two-character string.\n",
    "triples = 'ab'\n",
    "\n",
    "# Do the following 998 times, as the first two characters are provided by the triples string\n",
    "for i in range(0, 998):\n",
    "    # Use the first character of the last two characters, to select the correct first nested dictionary.\n",
    "    # Save this to a variable.\n",
    "    outer_weight = triples_weights[triples[-2]]\n",
    "    # Now, using the last character, of the two-character string, to select the correct inner nested dictionary.\n",
    "        # This dictionary contains the probability weights for the next character give the two proceeding characters.\n",
    "    total_weight = outer_weight[triples[-1]]  \n",
    "    # Turn this dictionary into a list, to be used by the random choices function.\n",
    "    total_weight = [total_weight[c] for c in chars]\n",
    "    # Randomly pick the next character using those weights.\n",
    "    next_character = random.choices(chars, weights=total_weight, k=1)[0]\n",
    "    # Append the character to the triples string and repeat until range is complete.\n",
    "    triples = triples + next_character"
   ]
  },
  {
   "cell_type": "code",
   "execution_count": 7,
   "id": "e10385ad",
   "metadata": {},
   "outputs": [
    {
     "data": {
      "text/plain": [
       "'aby as gred therseend wits ming ther the dook on iterear he hents duceellawasevereach the a re of in ittleactroalittleat youn the gare do ou begaid ther me thence wheyst actimplear ey as thersop overgoicamid at he rearrept pare wit thear snot disile he fit the oh onam wiled taliceing like re saine way thead that dree tif it min hatitenibut promeeptearto toplatch as ling ast iterable told butsed thened a rit wille trouslaidnobs projecatense turted joiceargent offelle reme wit back tin tame impecting all yout the sily he like forksperat therst saids antioninded thice coplastin mor verhat kelialit tabbir evebrieksplices ges whand samehownins glefor inglarmar leake dell serseal begaing sid and take still in larruess this he so loor a meds a thin ong she win i shred off that bee a dow thrignework sporeare onead fice prelfsher thersting dituredge one everge oneve assoo hermouter thad hen youdly well the wid thime came sty werds the he much any ing and tax ind at kinstaidereppere queeple turs'"
      ]
     },
     "execution_count": 7,
     "metadata": {},
     "output_type": "execute_result"
    }
   ],
   "source": [
    "triples"
   ]
  },
  {
   "cell_type": "markdown",
   "id": "e26da67a",
   "metadata": {},
   "source": [
    "References:\n",
    "    \n",
    "Nested Dictionarys: https://www.programiz.com/python-programming/nested-dictionary"
   ]
  },
  {
   "cell_type": "markdown",
   "id": "b4fbab38",
   "metadata": {},
   "source": [
    "<h1 style=\"color: rgb(0, 91, 94);\">Part 2</h2>\n",
    "\n",
    "<hr style=\"border-top: 1px solid rgb(0, 91, 94);\" />"
   ]
  },
  {
   "cell_type": "markdown",
   "id": "b2834909",
   "metadata": {},
   "source": [
    "<h2 style=\"color: rgb(0, 91, 94);\">Logarithms of Zero</h2>\n",
    "\n",
    "Show why:\n",
    "\n",
    "$ \\log_x (0) = $ undefined\n",
    "\n"
   ]
  },
  {
   "cell_type": "markdown",
   "id": "5db06cce",
   "metadata": {},
   "source": [
    "#### Definition of logarithm:\n",
    "The exponent that indicates the power to which a base number is raised to produce a given number"
   ]
  },
  {
   "cell_type": "markdown",
   "id": "28340a08",
   "metadata": {},
   "source": [
    "In maths terms this means:\n",
    "\n",
    "$ \\log_b (a) = c    $ Is equal to $    b^c = a $ "
   ]
  },
  {
   "cell_type": "markdown",
   "id": "ebbe9f2c",
   "metadata": {},
   "source": [
    "#### Explination\n",
    "\n",
    "The reason Log of Zero at any base is undefined is easier to observe in the equivelent formula $ b^c = a $\n",
    "\n",
    "Given the inital condition a = 0 ; $ b^c = 0 $\n",
    "\n",
    "We can observe that no operation involing positive natural numbers, raising b to the power of c, can result in returning zero.\n",
    "\n",
    "#### An interesting example, \n",
    "\n",
    "lets try $ b^0 $\n",
    "\n",
    "Due to the Zero Power Rule, the result of this calcualtion is $ b^0 = 1 $. This is not equal to zero as hopped for.\n",
    "\n",
    "\n",
    "\n"
   ]
  },
  {
   "cell_type": "markdown",
   "id": "8cf91c58",
   "metadata": {},
   "source": [
    "#### Conclusion\n",
    "\n",
    "There is no solution to the proposed equation, with positive natural numbers."
   ]
  },
  {
   "cell_type": "markdown",
   "id": "c8c773ba",
   "metadata": {},
   "source": [
    "### References\n",
    "\n",
    "Definition of a Logarithm: https://www.merriam-webster.com/dictionary/logarithm\n",
    "\n",
    "Zero Power Rule: https://medium.com/i-math/the-zero-power-rule-explained-449b4bd6934d"
   ]
  }
 ],
 "metadata": {
  "kernelspec": {
   "display_name": "Python 3.9.13 ('base')",
   "language": "python",
   "name": "python3"
  },
  "language_info": {
   "codemirror_mode": {
    "name": "ipython",
    "version": 3
   },
   "file_extension": ".py",
   "mimetype": "text/x-python",
   "name": "python",
   "nbconvert_exporter": "python",
   "pygments_lexer": "ipython3",
   "version": "3.9.13"
  },
  "vscode": {
   "interpreter": {
    "hash": "84d8cac4d95fdd2ab02498a6ec40a50cb9882041e67cb52e6d8bcfda00d28db9"
   }
  }
 },
 "nbformat": 4,
 "nbformat_minor": 5
}
