{
 "cells": [
  {
   "cell_type": "code",
   "execution_count": 62,
   "id": "9b938cc5",
   "metadata": {},
   "outputs": [],
   "source": [
    "import re\n",
    "import pandas as pd"
   ]
  },
  {
   "cell_type": "markdown",
   "id": "82b4eaf3",
   "metadata": {},
   "source": [
    "<h3 style=\"color: #001a79;\">Exercise 1</h3>\n",
    "\n",
    "<hr style=\"border-top: 1px solid #001a79;\" />\n",
    "\n",
    "Write a Python function to remove all non-alphanumeric characters from a string.\n",
    "\n",
    "<hr style=\"border-top: 1px solid #001a79;\" />"
   ]
  },
  {
   "cell_type": "markdown",
   "id": "e4a461be",
   "metadata": {},
   "source": [
    "<h2 style=\"color: rgb(0, 91, 94);\">Answer 1</h2>\n",
    "\n",
    "<hr style=\"border-top: 1px solid rgb(0, 91, 94);\" />"
   ]
  },
  {
   "cell_type": "code",
   "execution_count": 160,
   "id": "3d758756",
   "metadata": {},
   "outputs": [
    {
     "name": "stdout",
     "output_type": "stream",
     "text": [
      "Test T3st Tet 7est Test Ts 1234TestTest\n"
     ]
    }
   ],
   "source": [
    "# A string to be manipulated.\n",
    "original = 'Test T3st Te$t 7est Test T£s! 1234Test####Test'\n",
    "\n",
    "# Using fingiter to find all non overlapping matches\n",
    "matches = re.finditer(r'[\\w ]+', original)\n",
    "\n",
    "# Setting up a blank output string\n",
    "output = \"\"\n",
    "    \n",
    "# Appending all matched strings to the output string\n",
    "for match in matches:\n",
    "    output += match.group()\n",
    "\n",
    "print(output)"
   ]
  },
  {
   "cell_type": "markdown",
   "id": "ddb62677",
   "metadata": {},
   "source": [
    "<h3 style=\"color: #001a79;\">Exercise 2</h3>\n",
    "\n",
    "<hr style=\"border-top: 1px solid #001a79;\" />\n",
    "\n",
    "Adapt the above code to capitalise the first letter of the iris species, using regular expressions.\n",
    "\n",
    "<hr style=\"border-top: 1px solid #001a79;\" />"
   ]
  },
  {
   "cell_type": "markdown",
   "id": "43cdc4dc",
   "metadata": {},
   "source": [
    "<h2 style=\"color: rgb(0, 91, 94);\">Answer 2</h2>\n",
    "\n",
    "<hr style=\"border-top: 1px solid rgb(0, 91, 94);\" />"
   ]
  },
  {
   "cell_type": "code",
   "execution_count": 154,
   "id": "ec516c08",
   "metadata": {},
   "outputs": [],
   "source": [
    "# Could not figure this one out using Regex .sub so instead I used a pandas database and the .upper function"
   ]
  },
  {
   "cell_type": "code",
   "execution_count": 155,
   "id": "53f66da6",
   "metadata": {},
   "outputs": [
    {
     "name": "stdout",
     "output_type": "stream",
     "text": [
      "     SepalLength  SepalWidth  PetalLength  PetalWidth     FlowerClass\n",
      "0            5.1         3.5          1.4         0.2     Iris-setosa\n",
      "1            4.9         3.0          1.4         0.2     Iris-setosa\n",
      "2            4.7         3.2          1.3         0.2     Iris-setosa\n",
      "3            4.6         3.1          1.5         0.2     Iris-setosa\n",
      "4            5.0         3.6          1.4         0.2     Iris-setosa\n",
      "..           ...         ...          ...         ...             ...\n",
      "145          6.7         3.0          5.2         2.3  Iris-virginica\n",
      "146          6.3         2.5          5.0         1.9  Iris-virginica\n",
      "147          6.5         3.0          5.2         2.0  Iris-virginica\n",
      "148          6.2         3.4          5.4         2.3  Iris-virginica\n",
      "149          5.9         3.0          5.1         1.8  Iris-virginica\n",
      "\n",
      "[150 rows x 5 columns]\n"
     ]
    }
   ],
   "source": [
    "# Loading data from CSV file\n",
    "iris = pd.read_csv('https://archive.ics.uci.edu/ml/machine-learning-databases/iris/iris.data', names=['SepalLength', 'SepalWidth', 'PetalLength', 'PetalWidth', 'FlowerClass'])\n",
    "\n",
    "# looking at database\n",
    "print(iris)"
   ]
  },
  {
   "cell_type": "code",
   "execution_count": 156,
   "id": "c1457b1f",
   "metadata": {},
   "outputs": [
    {
     "name": "stdout",
     "output_type": "stream",
     "text": [
      "0         Iris-setosa\n",
      "1         Iris-setosa\n",
      "2         Iris-setosa\n",
      "3         Iris-setosa\n",
      "4         Iris-setosa\n",
      "            ...      \n",
      "145    Iris-virginica\n",
      "146    Iris-virginica\n",
      "147    Iris-virginica\n",
      "148    Iris-virginica\n",
      "149    Iris-virginica\n",
      "Name: FlowerClass, Length: 150, dtype: object\n"
     ]
    }
   ],
   "source": [
    "# Taking the flower names into its own list as this is easier to work with\n",
    "flower = iris['FlowerClass']\n",
    "\n",
    "# Creating an empty list for the updated flower names to be put into\n",
    "CorrectedFlower = []\n",
    "\n",
    "print(flower)"
   ]
  },
  {
   "cell_type": "code",
   "execution_count": 157,
   "id": "52a0634b",
   "metadata": {},
   "outputs": [],
   "source": [
    "for row in flower:\n",
    "    # Making sure Python interprets this as a string, because above it was dtype: object\n",
    "    rowStr = str(row)\n",
    "    # Cutting off the first 5 charracters \"Iris-\"\n",
    "    lower = rowStr[5:]\n",
    "    # Taking the first charracter and applying the .upper() function, then adding back the rest of the charracters\n",
    "    upper = lower[0].upper() + lower[1:]\n",
    "    # Appending this back into the corrected list\n",
    "    CorrectedFlower.append(upper)"
   ]
  },
  {
   "cell_type": "code",
   "execution_count": 158,
   "id": "f145f8dc",
   "metadata": {},
   "outputs": [],
   "source": [
    "# Updating the database with the new corrected list\n",
    "iris['FlowerClass'] = CorrectedFlower"
   ]
  },
  {
   "cell_type": "code",
   "execution_count": 159,
   "id": "cf9f802c",
   "metadata": {},
   "outputs": [
    {
     "name": "stdout",
     "output_type": "stream",
     "text": [
      "     SepalLength  SepalWidth  PetalLength  PetalWidth FlowerClass\n",
      "0            5.1         3.5          1.4         0.2      Setosa\n",
      "1            4.9         3.0          1.4         0.2      Setosa\n",
      "2            4.7         3.2          1.3         0.2      Setosa\n",
      "3            4.6         3.1          1.5         0.2      Setosa\n",
      "4            5.0         3.6          1.4         0.2      Setosa\n",
      "..           ...         ...          ...         ...         ...\n",
      "145          6.7         3.0          5.2         2.3   Virginica\n",
      "146          6.3         2.5          5.0         1.9   Virginica\n",
      "147          6.5         3.0          5.2         2.0   Virginica\n",
      "148          6.2         3.4          5.4         2.3   Virginica\n",
      "149          5.9         3.0          5.1         1.8   Virginica\n",
      "\n",
      "[150 rows x 5 columns]\n"
     ]
    }
   ],
   "source": [
    "# End result\n",
    "print(iris)"
   ]
  },
  {
   "cell_type": "markdown",
   "id": "8a327273",
   "metadata": {},
   "source": [
    "References\n",
    "\n",
    "re.finditer : https://www.pythontutorial.net/python-regex/python-regex-finditer/"
   ]
  }
 ],
 "metadata": {
  "kernelspec": {
   "display_name": "Python 3 (ipykernel)",
   "language": "python",
   "name": "python3"
  },
  "language_info": {
   "codemirror_mode": {
    "name": "ipython",
    "version": 3
   },
   "file_extension": ".py",
   "mimetype": "text/x-python",
   "name": "python",
   "nbconvert_exporter": "python",
   "pygments_lexer": "ipython3",
   "version": "3.9.13"
  }
 },
 "nbformat": 4,
 "nbformat_minor": 5
}
