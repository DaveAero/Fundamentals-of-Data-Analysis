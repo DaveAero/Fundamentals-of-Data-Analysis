{
 "cells": [
  {
   "cell_type": "code",
   "execution_count": 3,
   "id": "9b938cc5",
   "metadata": {},
   "outputs": [],
   "source": [
    "import re"
   ]
  },
  {
   "cell_type": "markdown",
   "id": "82b4eaf3",
   "metadata": {},
   "source": [
    "<h3 style=\"color: #001a79;\">Exercise 1</h3>\n",
    "\n",
    "<hr style=\"border-top: 1px solid #001a79;\" />\n",
    "\n",
    "Write a Python function to remove all non-alphanumeric characters from a string.\n",
    "\n",
    "<hr style=\"border-top: 1px solid #001a79;\" />"
   ]
  },
  {
   "cell_type": "markdown",
   "id": "e4a461be",
   "metadata": {},
   "source": [
    "<h2 style=\"color: rgb(0, 91, 94);\">Answer 1</h2>\n",
    "\n",
    "<hr style=\"border-top: 1px solid rgb(0, 91, 94);\" />"
   ]
  },
  {
   "cell_type": "code",
   "execution_count": 25,
   "id": "3d758756",
   "metadata": {},
   "outputs": [
    {
     "name": "stdout",
     "output_type": "stream",
     "text": [
      "Test T3st Tet 7est Test Ts 1234TestTest\n"
     ]
    }
   ],
   "source": [
    "# Defining fuction\n",
    "def textcleaner(Input):\n",
    "    # Using fingiter to find all non overlapping matches\n",
    "    matches = re.finditer(r'[\\w ]+', Input)\n",
    "\n",
    "    # Setting up a blank output string\n",
    "    output = \"\"\n",
    "\n",
    "    # Appending all matched strings to the output string\n",
    "    for match in matches:\n",
    "        output += match.group()\n",
    "    \n",
    "    # Returning the output string\n",
    "    return output\n",
    "\n",
    "# A string to be manipulated.\n",
    "original = 'Test T3st Te$t 7est Test T£s! 1234Test####Test'\n",
    "\n",
    "# Calling the fuction\n",
    "textcleaner(original)\n",
    "\n",
    "print(output)"
   ]
  },
  {
   "cell_type": "markdown",
   "id": "ddb62677",
   "metadata": {},
   "source": [
    "<h3 style=\"color: #001a79;\">Exercise 2</h3>\n",
    "\n",
    "<hr style=\"border-top: 1px solid #001a79;\" />\n",
    "\n",
    "Adapt the above code to capitalise the first letter of the iris species, using regular expressions.\n",
    "\n",
    "<hr style=\"border-top: 1px solid #001a79;\" />"
   ]
  },
  {
   "cell_type": "markdown",
   "id": "43cdc4dc",
   "metadata": {},
   "source": [
    "<h2 style=\"color: rgb(0, 91, 94);\">Answer 2</h2>\n",
    "\n",
    "<hr style=\"border-top: 1px solid rgb(0, 91, 94);\" />"
   ]
  },
  {
   "cell_type": "code",
   "execution_count": null,
   "id": "6a9efa3f",
   "metadata": {},
   "outputs": [],
   "source": []
  },
  {
   "cell_type": "markdown",
   "id": "8a327273",
   "metadata": {},
   "source": [
    "References\n",
    "\n",
    "re.finditer : https://www.pythontutorial.net/python-regex/python-regex-finditer/"
   ]
  }
 ],
 "metadata": {
  "kernelspec": {
   "display_name": "Python 3 (ipykernel)",
   "language": "python",
   "name": "python3"
  },
  "language_info": {
   "codemirror_mode": {
    "name": "ipython",
    "version": 3
   },
   "file_extension": ".py",
   "mimetype": "text/x-python",
   "name": "python",
   "nbconvert_exporter": "python",
   "pygments_lexer": "ipython3",
   "version": "3.9.13"
  }
 },
 "nbformat": 4,
 "nbformat_minor": 5
}
