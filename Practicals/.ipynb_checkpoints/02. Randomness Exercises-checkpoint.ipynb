{
 "cells": [
  {
   "cell_type": "markdown",
   "id": "44f80608",
   "metadata": {},
   "source": [
    "<h1 style=\"color: rgb(0, 91, 94);\">Randomness</h1>\n",
    "\n",
    "<hr style=\"border-top: 1px solid rgb(0, 91, 94);\" />\n",
    "\n",
    "This notebook is a collection of my work for the Randomness section practical"
   ]
  },
  {
   "cell_type": "markdown",
   "id": "6fef2986",
   "metadata": {},
   "source": [
    "<h3 style=\"color: #001a79;\">Exercise 1</h3>\n",
    "\n",
    "<hr style=\"border-top: 1px solid #001a79;\" />\n",
    "\n",
    "It is somewhat interesting that `(5 * 4 * 3 * 2 * 1)` perfectly divides `(10 * 9 * 8 * 7 * 6)` - there's no remainder.\n",
    "\n",
    "If we only wanted exactly four heads as opposed to five, the equivalent calculation would be `(10 * 9 * 8 * 7) / (4 * 3 * 2 * 1)`.\n",
    "\n",
    "Does that evenly divide too? What is the formula in general?\n",
    "\n",
    "Does it always come out as a positive whole number?\n",
    "\n",
    "<hr style=\"border-top: 1px solid #001a79;\" />"
   ]
  },
  {
   "cell_type": "markdown",
   "id": "b22ed339",
   "metadata": {},
   "source": [
    "<h2 style=\"color: rgb(0, 91, 94);\">Answer 1</h2>\n",
    "\n",
    "<hr style=\"border-top: 1px solid rgb(0, 91, 94);\" />\n",
    "\n",
    "Does `(10 * 9 * 8 * 7) / (4 * 3 * 2 * 1)` divide equally? Yes this does divide equally, and will always divide equally. \n",
    "\n",
    "\n",
    "The formula in general;\n",
    "\n",
    "\n",
    "Number of positions available = N.\n",
    "\n",
    "Number of terms above the fraction = X.\n",
    "\n",
    "! = Factorial, 4! == 4 * 3 * 2 * 1.\n",
    "\n",
    "$\\frac{N * (N-1) * (N-2) * (N-3)}{X!}$\n",
    "\n",
    "Does it always come out as a positive whole number? \n",
    "Yes,\n",
    "The Numerator will always be a positive whole number, as this is the number of all possible combinations for the desired condition. We only ever enter positive whole numbers to the general equation. For 2 heads out of 4, its (4 * (4-1)) = 12.\n",
    "The Denominator will always be a positive whole number, but most importantly will always be a factor of the Numerator. The purpose of this denominator is to remove the duplicate occurances. Where the same position coins have shown the desired condition (heads), but the order they were assigned this condition was different. The number of duplicates will always be a factor of the number of total combinations.\n",
    "\n",
    " For 2 Heads out of 4; \n",
    "Taking 1 to be the 1st counted head and 2 to be the second counted head. T will be Tails\n",
    "\n",
    "12TT,\n",
    "21TT,\n",
    "1T2T,\n",
    "2T1T,\n",
    "1TT2,\n",
    "2TT1,\n",
    "T12T,\n",
    "T21T,\n",
    "T1T2,\n",
    "T2T1,\n",
    "TT12,\n",
    "TT21\n",
    "\n",
    "There are 12 total combinations as predicted. But half of these are duplicate results."
   ]
  },
  {
   "cell_type": "markdown",
   "id": "2dca9649",
   "metadata": {},
   "source": [
    "<h3 style=\"color: #001a79;\">Exercise 2</h3>\n",
    "\n",
    "<hr style=\"border-top: 1px solid #001a79;\" />\n",
    "\n",
    "Note that there are the same number of ways to get 4 tails as there to get 4 heads. Explain why this is.\n",
    "\n",
    "<hr style=\"border-top: 1px solid #001a79;\" />\n"
   ]
  },
  {
   "cell_type": "markdown",
   "id": "8d488449",
   "metadata": {},
   "source": [
    "<h2 style=\"color: rgb(0, 91, 94);\">Answer 2</h2>\n",
    "\n",
    "<hr style=\"border-top: 1px solid rgb(0, 91, 94);\" />\n",
    "The selection between heads and tails is a binomial selection, there are only two possible outcomes. When flipping a coin to get heads or tails, there is an equal chance of each outcome. 0.5 probability of heads & 0.5 probability of tails. Therefore with 1 coin there is the same number of ways to get a heads as there is a tails.\n",
    "\n",
    "When we scale this up to a scenario where we are flipping 10 coins, the properties of this binomial selection hold true. The key point that drives this is the fact that there are only 2 possible outcomes for each coin toss. \n",
    "\n",
    "The probability of getting 4 heads is equal to the probability of getting 6 tails, as these two outcomes must occur together in a group of 10 coins. If only 4 can be heads, the rest must be tails. Remebering that the probability of a head is equal to the probabily of a tail, both being 0.5, it is also fair to say that the probabilty of 4 tails is equal to the probabilty of 6 heads.\n",
    "\n",
    "If the probability of each individual coin toss is the same 50/50 for each, and the probabilites of these outcomes are all the same for 4 heads or 6 heads or 4 tails or 6 tails, This can only be because there is the same number of possible ways to achieve this outcome."
   ]
  },
  {
   "cell_type": "markdown",
   "id": "f227690b",
   "metadata": {},
   "source": [
    "<h3 style=\"color: #001a79;\">Exercise 3</h3>\n",
    "\n",
    "<hr style=\"border-top: 1px solid #001a79;\" />\n",
    "\n",
    "\n",
    "Plot bar charts or histograms of any three different distributions listed at the following link:\n",
    "\n",
    "https://numpy.org/doc/stable/reference/random/generator.html#distributions\n",
    "\n",
    "<hr style=\"border-top: 1px solid #001a79;\" />\n"
   ]
  },
  {
   "cell_type": "markdown",
   "id": "b982a14b",
   "metadata": {},
   "source": [
    "<h2 style=\"color: rgb(0, 91, 94);\">Answer 3</h2>\n",
    "\n",
    "<hr style=\"border-top: 1px solid rgb(0, 91, 94);\" />"
   ]
  },
  {
   "cell_type": "code",
   "execution_count": 19,
   "id": "14579c3e",
   "metadata": {},
   "outputs": [],
   "source": [
    "# importing libraries for generating random numbers and plotting\n",
    "import matplotlib.pyplot as plt\n",
    "import numpy as np"
   ]
  },
  {
   "cell_type": "code",
   "execution_count": 28,
   "id": "ddb3cd39",
   "metadata": {},
   "outputs": [
    {
     "data": {
      "image/png": "[encoded data removed]",
      "text/plain": [
       "<Figure size 640x480 with 1 Axes>"
      ]
     },
     "metadata": {},
     "output_type": "display_data"
    },
    {
     "name": "stdout",
     "output_type": "stream",
     "text": [
      "Shape: 1. Mode: 2.\n"
     ]
    }
   ],
   "source": [
    "# Create new, seeded random number generator.\n",
    "rng = np.random.default_rng(0)\n",
    "\n",
    "# Randomly generating Shape and Mode\n",
    "a = np.random.randint(low=1, high=3)\n",
    "m = np.random.randint(low=1, high=3)\n",
    "\n",
    "# Generate 10000 numbers on a pareto distribution.\n",
    "s = (np.random.default_rng().pareto(a, 10000) + 1) * m\n",
    "\n",
    "# Plotting on a Histogram\n",
    "count, bins, _ = plt.hist(s, 100, density=True)\n",
    "plt.show()\n",
    "\n",
    "# Outputting the Shape and Mode\n",
    "print('Shape: {}. Mode: {}.'.format(a,m))"
   ]
  },
  {
   "cell_type": "code",
   "execution_count": 29,
   "id": "12d2823b",
   "metadata": {},
   "outputs": [
    {
     "data": {
      "image/png": "[encoded data removed]",
      "text/plain": [
       "<Figure size 640x480 with 1 Axes>"
      ]
     },
     "metadata": {},
     "output_type": "display_data"
    },
    {
     "name": "stdout",
     "output_type": "stream",
     "text": [
      "Power: 4.\n"
     ]
    }
   ],
   "source": [
    "# Randomly generating Power\n",
    "a = np.random.randint(low=2, high=5)\n",
    "\n",
    "# Generate 10000 numbers on a power distribution.\n",
    "s = rng.power(a, 10000)\n",
    "\n",
    "# Plotting on a Histogram\n",
    "count, bins, ignored = plt.hist(s, bins=100)\n",
    "plt.show()\n",
    "\n",
    "# Outputting the Power\n",
    "print('Power: {}.'.format(a))"
   ]
  },
  {
   "cell_type": "code",
   "execution_count": 30,
   "id": "cf25761d",
   "metadata": {},
   "outputs": [
    {
     "data": {
      "image/png": "[encoded data removed]",
      "text/plain": [
       "<Figure size 640x480 with 1 Axes>"
      ]
     },
     "metadata": {},
     "output_type": "display_data"
    },
    {
     "name": "stdout",
     "output_type": "stream",
     "text": [
      "Mean: 2. Width: 2.\n"
     ]
    }
   ],
   "source": [
    "# Randomly generating Mean and Width\n",
    "mean = np.random.randint(low=2, high=5)\n",
    "width = np.random.randint(low=2, high=5)\n",
    "\n",
    "# Generate 10000 numbers on a standard gamma distribution.\n",
    "s = np.random.default_rng().standard_gamma(mean, 10000)\n",
    "\n",
    "# Plotting on a Histogram\n",
    "count, bins, ignored = plt.hist(s, bins=100)\n",
    "plt.show()\n",
    "\n",
    "# Outputting the Mean and Width \n",
    "print('Mean: {}. Width: {}.'.format(mean,width))"
   ]
  }
 ],
 "metadata": {
  "kernelspec": {
   "display_name": "Python 3 (ipykernel)",
   "language": "python",
   "name": "python3"
  },
  "language_info": {
   "codemirror_mode": {
    "name": "ipython",
    "version": 3
   },
   "file_extension": ".py",
   "mimetype": "text/x-python",
   "name": "python",
   "nbconvert_exporter": "python",
   "pygments_lexer": "ipython3",
   "version": "3.9.13"
  },
  "vscode": {
   "interpreter": {
    "hash": "84d8cac4d95fdd2ab02498a6ec40a50cb9882041e67cb52e6d8bcfda00d28db9"
   }
  }
 },
 "nbformat": 4,
 "nbformat_minor": 5
}
