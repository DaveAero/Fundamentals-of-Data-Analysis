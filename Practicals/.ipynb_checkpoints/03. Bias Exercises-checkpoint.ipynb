{
 "cells": [
  {
   "cell_type": "markdown",
   "id": "0b2b920f",
   "metadata": {},
   "source": [
    "<h1 style=\"color: rgb(0, 91, 94);\">Bias</h1>\n",
    "\n",
    "<hr style=\"border-top: 1px solid rgb(0, 91, 94);\" />\n",
    "\n",
    "This notebook is a collection of my work for the Bias section practical"
   ]
  },
  {
   "cell_type": "markdown",
   "id": "a701bee3",
   "metadata": {},
   "source": [
    "<h3 style=\"color: #001a79;\">Exercise 1</h3>\n",
    "\n",
    "<hr style=\"border-top: 1px solid #001a79;\" />\n",
    "\n",
    "Give three real-world examples of different types of cognitive bias.\n",
    "\n",
    "<hr style=\"border-top: 1px solid #001a79;\" />"
   ]
  },
  {
   "cell_type": "markdown",
   "id": "fff70731",
   "metadata": {},
   "source": [
    "<h2 style=\"color: rgb(0, 91, 94);\">Answer 1</h2>\n",
    "\n",
    "<hr style=\"border-top: 1px solid rgb(0, 91, 94);\" />\n",
    "\n"
   ]
  },
  {
   "cell_type": "markdown",
   "id": "106693a0",
   "metadata": {},
   "source": [
    "#### Confirmation bias\n",
    "Confimation bias can occur when an observer of data forms a hypothesis early before fully investigating and exploring the data. They then subconsiouly work towards proving this hypothisis through the data, possibly overvaluing some data and ignoring other important piece of data, in the goal of proving their hypothesis.\n",
    "\n",
    "#### Gambler’s fallacy\n",
    "This Bias can occur when observing a random output of data. If a certain outcome hasn't occured for a while, the observer may get a feeling that because of this, that outcome is now more likely to occur, or in a way that outcome is now due to occur. This is completely false, each random output has no effect on the next, each output is purely random and the outcome the observer is hoping for may never come as they observe. They are trying to use the pobibility distribution to gain an advantage, but in reality there is no advantage to be gained here as all as the outcomes are discrete and each random output has no effect on the next.\n",
    "\n",
    "#### Experience Bias\n"
   ]
  },
  {
   "cell_type": "markdown",
   "id": "703e0b31",
   "metadata": {},
   "source": [
    "References:\n",
    "Bias : https://en.wikipedia.org/wiki/List_of_cognitive_biases#Extension_neglect"
   ]
  }
 ],
 "metadata": {
  "kernelspec": {
   "display_name": "Python 3 (ipykernel)",
   "language": "python",
   "name": "python3"
  },
  "language_info": {
   "codemirror_mode": {
    "name": "ipython",
    "version": 3
   },
   "file_extension": ".py",
   "mimetype": "text/x-python",
   "name": "python",
   "nbconvert_exporter": "python",
   "pygments_lexer": "ipython3",
   "version": "3.9.13"
  }
 },
 "nbformat": 4,
 "nbformat_minor": 5
}
